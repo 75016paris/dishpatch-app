{
 "cells": [
  {
   "cell_type": "code",
   "execution_count": 1,
   "metadata": {},
   "outputs": [
    {
     "name": "stdout",
     "output_type": "stream",
     "text": [
      "[DEV] Would rename: DishpatchSubscriptionData_NIklas_Sanitised - subscriptions (2).csv → 2025-05-29_18-44-09_DishpatchSubscriptionData_NIklas_Sanitised - subscriptions (2).csv\n",
      "📅 Reference date (TODAY) for analysis: 30-05-2025\n"
     ]
    }
   ],
   "source": [
    "# IMPORT LIBRARIES\n",
    "##################\n",
    "\n",
    "import os\n",
    "import pandas as pd\n",
    "import numpy as np\n",
    "import seaborn as sns\n",
    "import matplotlib.pyplot as plt\n",
    "import matplotlib.dates as mdates\n",
    "from datetime import datetime\n",
    "import pytz\n",
    "import warnings\n",
    "warnings.filterwarnings('ignore')\n",
    "\n",
    "\n",
    "# VISUAL SETTINGS\n",
    "##################\n",
    "\n",
    "plt.style.use('seaborn-v0_8-whitegrid')\n",
    "plt.rcParams['figure.figsize'] = (15, 8)\n",
    "plt.rcParams['font.size'] = 12\n",
    "sns.set_palette(\"viridis\")\n",
    "\n",
    "\n",
    "\n",
    "# LOADING CSV\n",
    "##################\n",
    "\n",
    "def load_latest_csv(data_dir='data', rename_files=False):\n",
    "    \"\"\"Load the most recent CSV file from the data directory\"\"\"\n",
    "    files = [\n",
    "        os.path.join(data_dir, f)\n",
    "        for f in os.listdir(data_dir)\n",
    "        if os.path.isfile(os.path.join(data_dir, f)) and f.endswith('.csv')\n",
    "    ]\n",
    "\n",
    "    sorted_files = sorted(files, key=os.path.getctime, reverse=True)\n",
    "\n",
    "    for file_path in sorted_files:\n",
    "        created_at = datetime.fromtimestamp(os.path.getctime(file_path))\n",
    "        timestamp_str = created_at.strftime('%Y-%m-%d_%H-%M-%S')\n",
    "        original_name = os.path.basename(file_path)\n",
    "        new_name = f\"{timestamp_str}_{original_name}\"\n",
    "        new_path = os.path.join(data_dir, new_name)\n",
    "\n",
    "        if rename_files:\n",
    "            if not original_name.startswith(timestamp_str):\n",
    "                os.rename(file_path, new_path)\n",
    "                print(f\"Renamed: {original_name} → {new_name}\")\n",
    "                file_path = new_path\n",
    "            else:\n",
    "                print(f\"Already renamed: {original_name}\")\n",
    "        else:\n",
    "            print(f\"[DEV] Would rename: {original_name} → {new_name}\")\n",
    "\n",
    "    return pd.read_csv(sorted_files[0])\n",
    "\n",
    "# Load data\n",
    "df_raw = load_latest_csv()\n",
    "\n",
    "\n",
    "\n",
    "\n",
    "# DATA PREPROCESSING\n",
    "##################\n",
    "\n",
    "def preprocess_data(df):\n",
    "    \"\"\"Clean and preprocess the subscription data\"\"\"\n",
    "    df = df.copy()\n",
    "\n",
    "    # Date conversion\n",
    "    date_cols = [col for col in df.columns if '(UTC)' in col]\n",
    "    for col in date_cols:\n",
    "        df[col] = pd.to_datetime(df[col], errors='coerce', utc=True)\n",
    "\n",
    "    df = df.sort_values(by='Created (UTC)')\n",
    "\n",
    "    # Column selection and renaming\n",
    "    columns_to_keep = [\n",
    "        'Customer Name', 'Status', 'Cancellation Reason',\n",
    "        'Created (UTC)', 'Start (UTC)', 'Start Date (UTC)', \n",
    "        'Current Period Start (UTC)', 'Current Period End (UTC)', \n",
    "        'Trial Start (UTC)', 'Trial End (UTC)',\n",
    "        'Canceled At (UTC)', 'Ended At (UTC)', \n",
    "        'senderShopifyCustomerId (metadata)'\n",
    "    ]\n",
    "    \n",
    "    df = df[columns_to_keep]\n",
    "\n",
    "    df.rename(columns={\n",
    "        'Customer ID': 'customer_id',\n",
    "        'Customer Name': 'customer_name',\n",
    "        'Status': 'status',\n",
    "        'Created (UTC)': 'created_utc',\n",
    "        'Start (UTC)': 'start_utc',\n",
    "        'Start Date (UTC)': 'start_date_utc',\n",
    "        'Current Period Start (UTC)': 'current_period_start_utc',\n",
    "        'Current Period End (UTC)': 'current_period_end_utc',\n",
    "        'Trial Start (UTC)': 'trial_start_utc',\n",
    "        'Trial End (UTC)': 'trial_end_utc',\n",
    "        'Canceled At (UTC)': 'canceled_at_utc',\n",
    "        'Ended At (UTC)': 'ended_at_utc',\n",
    "        'senderShopifyCustomerId (metadata)': 'is_gifted_member'\n",
    "    }, inplace=True)\n",
    "\n",
    "    # Convert is_gifted_member to boolean\n",
    "    df['is_gifted_member'] = df['is_gifted_member'].notna()\n",
    "\n",
    "    # Reference date for analysis\n",
    "    reference_date = pd.Timestamp.now(tz='UTC')\n",
    "    print(f\"📅 Reference date (TODAY) for analysis: {reference_date.strftime('%d-%m-%Y')}\")\n",
    "\n",
    "    # Consolidate status\n",
    "    df.loc[df['status'].isin(['past_due', 'incomplete_expired']), 'status'] = 'canceled'\n",
    "\n",
    "    return df, reference_date\n",
    "\n",
    "df, reference_date = preprocess_data(df_raw)\n",
    "\n"
   ]
  },
  {
   "cell_type": "code",
   "execution_count": 2,
   "metadata": {},
   "outputs": [],
   "source": [
    "# HELPER FUNCTIONS\n",
    "##################\n",
    "\n",
    "def clean_membership_data(df):\n",
    "    \"\"\"Clean and prepare membership data for analysis\"\"\"\n",
    "    # Remove very short subscriptions (likely test accounts)\n",
    "    df['duration_days'] = (pd.to_datetime(df['ended_at_utc']) - pd.to_datetime(df['created_utc'])).dt.days\n",
    "    df_clean = df[~((df['duration_days'] < 1) & ~(df['status'].isin(['active', 'trialing'])))]\n",
    "    \n",
    "    # Remove duplicate signups (within 12 hours)\n",
    "    df_clean = df_clean.sort_values(['customer_name', 'created_utc'], ascending=[True, False])\n",
    "    df_clean['time_diff'] = df_clean.groupby('customer_name')['created_utc'].diff()\n",
    "    df_clean = df_clean[~((df_clean['time_diff'] < pd.Timedelta(hours=12)) & (df_clean['time_diff'].notna()))]\n",
    "    df_clean = df_clean.sort_values('created_utc', ascending=True)\n",
    "    \n",
    "    return df_clean.drop(['duration_days', 'time_diff'], axis=1)\n",
    "\n",
    "\n",
    "\n",
    "def calculate_real_duration(row):\n",
    "    \"\"\"Calculate actual subscription duration\"\"\"\n",
    "    #start_date = row['current_period_start_utc']\n",
    "    start_date = row['created_utc']\n",
    "    \n",
    "    if pd.notna(row['ended_at_utc']):\n",
    "        end_date = row['ended_at_utc']\n",
    "    else:\n",
    "        end_date = row['current_period_end_utc']\n",
    "    \n",
    "    return (end_date - start_date).days\n",
    "\n",
    "\n",
    "\n",
    "def calculate_trial_duration(row):\n",
    "    \"\"\"Calculate trial duration\"\"\"\n",
    "    if pd.notna(row['trial_start_utc']) and pd.notna(row['trial_end_utc']):\n",
    "        start_date = row['trial_start_utc']\n",
    "        end_date = row['trial_end_utc']\n",
    "        return (end_date - start_date).days\n",
    "    return 0\n",
    "\n",
    "def categorize_duration(duration):\n",
    "    if duration <= 9:\n",
    "        return \"Early Cancellation (0-9 days)\"\n",
    "    elif 10 <= duration <= 24:\n",
    "        return \"10-day Trial + Refund (10-24 days)\"\n",
    "    elif 25 <= duration <= 34:\n",
    "        return \"20-day Trial + Refund (25-34 days)\" \n",
    "    elif 35 <= duration <= 55:  # ✅ Élargi\n",
    "        return \"30-day Trial + Refund (35-55 days)\"\n",
    "    elif 360 <= duration <= 420:  # ✅ Élargi\n",
    "        return \"Annual Subscription (360-420 days)\"\n",
    "    elif 730 <= duration <= 770:\n",
    "        return \"Two Year Subscription (730-770 days)\"\n",
    "    else:\n",
    "        return f\"Other ({duration} days)\""
   ]
  },
  {
   "cell_type": "code",
   "execution_count": 3,
   "metadata": {},
   "outputs": [],
   "source": [
    "# DATA PROCESSING\n",
    "##################\n",
    "\n",
    "\n",
    "\n",
    "\n",
    "# Clean abnormal data\n",
    "analysis_df = clean_membership_data(df)\n",
    "\n",
    "# Get team test customers with more than 8 occurrences and filter them out\n",
    "# team_test_customers = analysis_df['customer_name'].value_counts()\n",
    "# analysis_df = analysis_df[~analysis_df['customer_name'].isin(frequent_customers[frequent_customers >= 8].index)]\n",
    "\n",
    "\n",
    "# Duration calculations\n",
    "analysis_df['real_duration'] = analysis_df.apply(calculate_real_duration, axis=1)\n",
    "# Appliquer la catégorisation\n",
    "analysis_df['duration_category'] = analysis_df['real_duration'].apply(categorize_duration)\n",
    "analysis_df['period_duration'] = (analysis_df['current_period_end_utc'] - analysis_df['current_period_start_utc']).dt.days\n",
    "\n",
    "analysis_df['trial_duration'] = analysis_df.apply(calculate_trial_duration, axis=1)\n",
    "analysis_df['only_trial'] = analysis_df['period_duration'] == analysis_df['trial_duration']\n",
    "\n",
    "# Unknown period calculation\n",
    "analysis_df['unknown_period'] = (analysis_df['current_period_start_utc'] - analysis_df['created_utc']).dt.days"
   ]
  },
  {
   "cell_type": "code",
   "execution_count": 17,
   "metadata": {},
   "outputs": [
    {
     "name": "stdout",
     "output_type": "stream",
     "text": [
      "<class 'pandas.core.frame.DataFrame'>\n",
      "RangeIndex: 20443 entries, 0 to 20442\n",
      "Data columns (total 34 columns):\n",
      " #   Column                              Non-Null Count  Dtype  \n",
      "---  ------                              --------------  -----  \n",
      " 0   id                                  20443 non-null  object \n",
      " 1   Customer ID                         20443 non-null  object \n",
      " 2   Customer Description                5 non-null      object \n",
      " 3   Customer Name                       20443 non-null  object \n",
      " 4   Plan                                20443 non-null  object \n",
      " 5   Product                             20443 non-null  object \n",
      " 6   Product ID                          20443 non-null  object \n",
      " 7   Quantity                            20443 non-null  int64  \n",
      " 8   Currency                            20443 non-null  object \n",
      " 9   Cancellation Reason                 13953 non-null  object \n",
      " 10  Interval                            20443 non-null  object \n",
      " 11  Amount                              20443 non-null  int64  \n",
      " 12  Status                              20443 non-null  object \n",
      " 13  Created (UTC)                       20443 non-null  object \n",
      " 14  Start (UTC)                         20443 non-null  object \n",
      " 15  Start Date (UTC)                    20443 non-null  object \n",
      " 16  Current Period Start (UTC)          20443 non-null  object \n",
      " 17  Current Period End (UTC)            20443 non-null  object \n",
      " 18  Trial Start (UTC)                   18150 non-null  object \n",
      " 19  Trial End (UTC)                     18150 non-null  object \n",
      " 20  Application Fee Percent             0 non-null      float64\n",
      " 21  Coupon                              25 non-null     object \n",
      " 22  Tax Percent                         0 non-null      float64\n",
      " 23  Canceled At (UTC)                   13962 non-null  object \n",
      " 24  Cancel At Period End                20443 non-null  bool   \n",
      " 25  Ended At (UTC)                      13639 non-null  object \n",
      " 26  Exclusive Tax Rate                  0 non-null      float64\n",
      " 27  Inclusive Tax Rate                  0 non-null      float64\n",
      " 28  Automatic Tax Enabled               20443 non-null  bool   \n",
      " 29  Tax Location Recognized             20443 non-null  bool   \n",
      " 30  kind (metadata)                     552 non-null    object \n",
      " 31  senderShopifyCustomerId (metadata)  1247 non-null   float64\n",
      " 32  shopifyCustomerId (metadata)        1249 non-null   float64\n",
      " 33  previousEndDate (metadata)          15 non-null     object \n",
      "dtypes: bool(3), float64(6), int64(2), object(23)\n",
      "memory usage: 4.9+ MB\n"
     ]
    }
   ],
   "source": [
    "analysis_df['customer_name'].value_counts()\n",
    "#df['customer_name'].value_counts().head(30)\n",
    "df_raw['Customer Name'].value_counts().head(30)\n",
    "df_raw.info()"
   ]
  },
  {
   "cell_type": "code",
   "execution_count": 23,
   "metadata": {},
   "outputs": [
    {
     "data": {
      "text/plain": [
       "(17738, 19976)"
      ]
     },
     "execution_count": 23,
     "metadata": {},
     "output_type": "execute_result"
    }
   ],
   "source": [
    "len(df_raw['Customer Name'].value_counts()), len(df_raw['Customer ID'].value_counts())"
   ]
  },
  {
   "cell_type": "code",
   "execution_count": 24,
   "metadata": {},
   "outputs": [
    {
     "data": {
      "text/plain": [
       "canceled              13630\n",
       "active                 6584\n",
       "trialing                156\n",
       "past_due                 64\n",
       "incomplete_expired        9\n",
       "Name: Status, dtype: int64"
      ]
     },
     "execution_count": 24,
     "metadata": {},
     "output_type": "execute_result"
    }
   ],
   "source": [
    "#df_raw['Customer ID'].value_counts()\n",
    "df_raw['Status'].value_counts()"
   ]
  },
  {
   "cell_type": "code",
   "execution_count": 28,
   "metadata": {},
   "outputs": [
    {
     "name": "stdout",
     "output_type": "stream",
     "text": [
      "13630 6740\n"
     ]
    }
   ],
   "source": [
    "# À vérifier immédiatement\n",
    "print(df_raw[df_raw['Status'] == 'canceled']['Cancellation Reason'].notna().sum(), df_raw[df_raw['Status'].isin(['active', 'trialing'])]['Ended At (UTC)'].isna().sum())"
   ]
  },
  {
   "cell_type": "code",
   "execution_count": 29,
   "metadata": {},
   "outputs": [
    {
     "data": {
      "text/plain": [
       "active      308\n",
       "trialing     15\n",
       "Name: Status, dtype: int64"
      ]
     },
     "execution_count": 29,
     "metadata": {},
     "output_type": "execute_result"
    }
   ],
   "source": [
    "# Vérifier les autres statuts avec raison d'annulation\n",
    "df_raw[df_raw['Cancellation Reason'].notna() & (df_raw['Status'] != 'canceled')]['Status'].value_counts()"
   ]
  },
  {
   "cell_type": "code",
   "execution_count": null,
   "metadata": {},
   "outputs": [],
   "source": []
  },
  {
   "cell_type": "code",
   "execution_count": 18,
   "metadata": {},
   "outputs": [
    {
     "data": {
      "text/plain": [
       "False    16878\n",
       "True      3565\n",
       "Name: Cancel At Period End, dtype: int64"
      ]
     },
     "execution_count": 18,
     "metadata": {},
     "output_type": "execute_result"
    }
   ],
   "source": [
    "df_raw['Cancel At Period End'].value_counts()"
   ]
  },
  {
   "cell_type": "code",
   "execution_count": 5,
   "metadata": {},
   "outputs": [],
   "source": [
    "cancel_at_some_point =df_raw['Canceled At (UTC)'].notna()\n",
    "ended_at_some_point = df_raw['Ended At (UTC)'].notna()\n",
    "#len(cancel_at_some_point)\n",
    "#len(ended_at_some_point)\n",
    "#len(cancel_at_some_point) + len(ended_at_some_point)\n",
    "#len(df_raw)\n"
   ]
  },
  {
   "cell_type": "code",
   "execution_count": 6,
   "metadata": {},
   "outputs": [
    {
     "data": {
      "text/plain": [
       "canceled    10608\n",
       "active       6366\n",
       "trialing      153\n",
       "Name: status, dtype: int64"
      ]
     },
     "execution_count": 6,
     "metadata": {},
     "output_type": "execute_result"
    }
   ],
   "source": [
    "analysis_df['status'].value_counts()"
   ]
  },
  {
   "cell_type": "code",
   "execution_count": 7,
   "metadata": {},
   "outputs": [
    {
     "data": {
      "text/plain": [
       "10     5577\n",
       "375    3556\n",
       "741    1000\n",
       "365     750\n",
       "376     566\n",
       "740     372\n",
       "6       291\n",
       "4       256\n",
       "7       245\n",
       "5       227\n",
       "8       220\n",
       "3       203\n",
       "9       172\n",
       "1       162\n",
       "2       158\n",
       "25      132\n",
       "11      130\n",
       "397      96\n",
       "31       93\n",
       "396      75\n",
       "12       74\n",
       "761      71\n",
       "366      61\n",
       "14       58\n",
       "13       55\n",
       "24       47\n",
       "22       43\n",
       "21       42\n",
       "45       40\n",
       "15       39\n",
       "Name: real_duration, dtype: int64"
      ]
     },
     "execution_count": 7,
     "metadata": {},
     "output_type": "execute_result"
    }
   ],
   "source": [
    "analysis_df = analysis_df[analysis_df['is_gifted_member'] == False]\n",
    "\n",
    "analysis_df['real_duration'].value_counts().head(30)\n",
    "#analysis_df[analysis_df['real_duration'] == 0]\n",
    "\n"
   ]
  },
  {
   "cell_type": "code",
   "execution_count": 8,
   "metadata": {},
   "outputs": [
    {
     "data": {
      "text/plain": [
       "10-day Trial + Refund (10-24 days)      6256\n",
       "Annual Subscription (360-420 days)      5503\n",
       "Early Cancellation (0-9 days)           1934\n",
       "Two Year Subscription (730-770 days)    1732\n",
       "20-day Trial + Refund (25-34 days)       463\n",
       "30-day Trial + Refund (35-55 days)       220\n",
       "Other (276 days)                           3\n",
       "Other (423 days)                           3\n",
       "Other (601 days)                           3\n",
       "Other (771 days)                           3\n",
       "Other (615 days)                           3\n",
       "Other (99 days)                            2\n",
       "Other (108 days)                           2\n",
       "Other (67 days)                            2\n",
       "Other (334 days)                           2\n",
       "Other (268 days)                           2\n",
       "Other (424 days)                           2\n",
       "Other (609 days)                           2\n",
       "Other (77 days)                            2\n",
       "Other (422 days)                           2\n",
       "Other (197 days)                           1\n",
       "Other (256 days)                           1\n",
       "Other (356 days)                           1\n",
       "Other (93 days)                            1\n",
       "Other (277 days)                           1\n",
       "Other (354 days)                           1\n",
       "Other (265 days)                           1\n",
       "Other (293 days)                           1\n",
       "Other (351 days)                           1\n",
       "Other (263 days)                           1\n",
       "Other (617 days)                           1\n",
       "Other (224 days)                           1\n",
       "Other (111 days)                           1\n",
       "Other (61 days)                            1\n",
       "Other (333 days)                           1\n",
       "Other (608 days)                           1\n",
       "Other (288 days)                           1\n",
       "Other (616 days)                           1\n",
       "Other (203 days)                           1\n",
       "Other (605 days)                           1\n",
       "Name: duration_category, dtype: int64"
      ]
     },
     "execution_count": 8,
     "metadata": {},
     "output_type": "execute_result"
    }
   ],
   "source": [
    "\n",
    "# Voir la distribution des catégories\n",
    "category_counts = analysis_df['duration_category'].value_counts()\n",
    "category_counts.head(40)"
   ]
  },
  {
   "cell_type": "code",
   "execution_count": 9,
   "metadata": {},
   "outputs": [
    {
     "data": {
      "text/plain": [
       "16234"
      ]
     },
     "execution_count": 9,
     "metadata": {},
     "output_type": "execute_result"
    }
   ],
   "source": [
    "analysis_df[analysis_df['customer_name'] == 'Customer757']\n",
    "len(analysis_df)"
   ]
  },
  {
   "cell_type": "code",
   "execution_count": 10,
   "metadata": {},
   "outputs": [
    {
     "data": {
      "text/html": [
       "<div>\n",
       "<style scoped>\n",
       "    .dataframe tbody tr th:only-of-type {\n",
       "        vertical-align: middle;\n",
       "    }\n",
       "\n",
       "    .dataframe tbody tr th {\n",
       "        vertical-align: top;\n",
       "    }\n",
       "\n",
       "    .dataframe thead th {\n",
       "        text-align: right;\n",
       "    }\n",
       "</style>\n",
       "<table border=\"1\" class=\"dataframe\">\n",
       "  <thead>\n",
       "    <tr style=\"text-align: right;\">\n",
       "      <th></th>\n",
       "      <th>customer_name</th>\n",
       "      <th>status</th>\n",
       "      <th>Cancellation Reason</th>\n",
       "      <th>created_utc</th>\n",
       "      <th>start_utc</th>\n",
       "      <th>start_date_utc</th>\n",
       "      <th>current_period_start_utc</th>\n",
       "      <th>current_period_end_utc</th>\n",
       "      <th>trial_start_utc</th>\n",
       "      <th>trial_end_utc</th>\n",
       "      <th>canceled_at_utc</th>\n",
       "      <th>ended_at_utc</th>\n",
       "      <th>is_gifted_member</th>\n",
       "      <th>real_duration</th>\n",
       "      <th>duration_category</th>\n",
       "      <th>period_duration</th>\n",
       "      <th>trial_duration</th>\n",
       "      <th>only_trial</th>\n",
       "      <th>unknown_period</th>\n",
       "    </tr>\n",
       "  </thead>\n",
       "  <tbody>\n",
       "    <tr>\n",
       "      <th>6703</th>\n",
       "      <td>Customer6165</td>\n",
       "      <td>active</td>\n",
       "      <td>NaN</td>\n",
       "      <td>2024-11-04 07:51:00+00:00</td>\n",
       "      <td>2024-11-04 07:51:00+00:00</td>\n",
       "      <td>2024-11-04 07:51:00+00:00</td>\n",
       "      <td>2024-11-04 07:51:00+00:00</td>\n",
       "      <td>2025-11-04 07:51:00+00:00</td>\n",
       "      <td>NaT</td>\n",
       "      <td>NaT</td>\n",
       "      <td>NaT</td>\n",
       "      <td>NaT</td>\n",
       "      <td>False</td>\n",
       "      <td>365</td>\n",
       "      <td>Annual Subscription (360-420 days)</td>\n",
       "      <td>365</td>\n",
       "      <td>0</td>\n",
       "      <td>False</td>\n",
       "      <td>0</td>\n",
       "    </tr>\n",
       "  </tbody>\n",
       "</table>\n",
       "</div>"
      ],
      "text/plain": [
       "     customer_name  status Cancellation Reason               created_utc  \\\n",
       "6703  Customer6165  active                 NaN 2024-11-04 07:51:00+00:00   \n",
       "\n",
       "                     start_utc            start_date_utc  \\\n",
       "6703 2024-11-04 07:51:00+00:00 2024-11-04 07:51:00+00:00   \n",
       "\n",
       "      current_period_start_utc    current_period_end_utc trial_start_utc  \\\n",
       "6703 2024-11-04 07:51:00+00:00 2025-11-04 07:51:00+00:00             NaT   \n",
       "\n",
       "     trial_end_utc canceled_at_utc ended_at_utc  is_gifted_member  \\\n",
       "6703           NaT             NaT          NaT             False   \n",
       "\n",
       "      real_duration                   duration_category  period_duration  \\\n",
       "6703            365  Annual Subscription (360-420 days)              365   \n",
       "\n",
       "      trial_duration  only_trial  unknown_period  \n",
       "6703               0       False               0  "
      ]
     },
     "execution_count": 10,
     "metadata": {},
     "output_type": "execute_result"
    }
   ],
   "source": [
    "analysis_df[analysis_df['customer_name'] == 'Customer6165']"
   ]
  },
  {
   "cell_type": "code",
   "execution_count": 11,
   "metadata": {},
   "outputs": [],
   "source": [
    "# analysis_df['is_comeback'] = analysis_df['unknown_period'] > 7\n",
    "\n",
    "\n",
    "\n",
    "# analysis_df['gap_category'] = pd.cut(\n",
    "#     analysis_df['unknown_period'], \n",
    "#     bins=[0, 1, 7, 30, 90, 365, float('inf')],\n",
    "#     labels=['immediate', 'next_day', 'week', 'month', 'year', 'more_than_one_year']\n",
    "# )\n",
    "\n",
    "# # Analyze comeback patterns\n",
    "# comeback_stats = analysis_df[analysis_df['is_comeback']].groupby('gap_category').agg({\n",
    "#     'customer_name': 'count',\n",
    "#     'real_duration': 'mean',\n",
    "#     'only_trial': 'sum'\n",
    "# })\n",
    "\n",
    "# # mean return delay\n",
    "# avg_return_delay = analysis_df[analysis_df['is_comeback']]['unknown_period'].mean()\n",
    "\n",
    "# print(f\"avg_return_delay = {avg_return_delay}, comeback_stats = {comeback_stats}\")\n",
    "\n",
    "\n",
    "# # Vérifier les dates suspectes\n",
    "# suspicious_dates = analysis_df[analysis_df['unknown_period'] > 365]\n",
    "# print(suspicious_dates[['created_utc', 'current_period_start_utc', 'unknown_period']].head())\n",
    "\n",
    "# # Vérifier la distribution des dates de création\n",
    "# print(analysis_df['created_utc'].describe())\n",
    "\n",
    "\n",
    "# # Identifier les clients probablement migrés\n",
    "# migrated_customers = analysis_df[\n",
    "#     (analysis_df['created_utc'].dt.date == pd.to_datetime('2023-09-25').date()) &\n",
    "#     (analysis_df['unknown_period'] > 300)\n",
    "# ]\n",
    "\n",
    "# # Les exclure de l'analyse \"comeback\" pure\n",
    "# pure_comebacks = analysis_df[\n",
    "#     (analysis_df['is_comeback'] == True) &\n",
    "#     (~analysis_df.index.isin(migrated_customers.index))\n",
    "# ]\n",
    "\n",
    "# print(f\"migrated_customers = {len(migrated_customers)}, pure_comebacks = {len(pure_comebacks)}\") \n",
    "\n",
    "# Vérifications supplémentaires nécessaires\n",
    "# print(\"Distribution des créations pour les gaps 'year+':\")\n",
    "# year_plus = analysis_df[analysis_df['unknown_period'] > 365]\n",
    "# print(year_plus['created_utc'].dt.date.value_counts().head(10))\n",
    "\n",
    "# print(\"\\nRange des unknown_period pour ces clients:\")\n",
    "# print(year_plus['unknown_period'].describe())"
   ]
  },
  {
   "cell_type": "code",
   "execution_count": 12,
   "metadata": {},
   "outputs": [],
   "source": [
    "# "
   ]
  },
  {
   "cell_type": "code",
   "execution_count": 13,
   "metadata": {},
   "outputs": [
    {
     "data": {
      "text/plain": [
       "Customer17738    1\n",
       "Customer5809     1\n",
       "Customer5824     1\n",
       "Customer5823     1\n",
       "Customer5821     1\n",
       "                ..\n",
       "Customer11757    1\n",
       "Customer11756    1\n",
       "Customer11755    1\n",
       "Customer11754    1\n",
       "Customer1        1\n",
       "Name: customer_name, Length: 16234, dtype: int64"
      ]
     },
     "execution_count": 13,
     "metadata": {},
     "output_type": "execute_result"
    }
   ],
   "source": [
    "analysis_df['customer_name'].value_counts()"
   ]
  },
  {
   "cell_type": "code",
   "execution_count": 14,
   "metadata": {},
   "outputs": [
    {
     "data": {
      "text/plain": [
       "Timestamp('2023-09-25 09:04:00+0000', tz='UTC')"
      ]
     },
     "execution_count": 14,
     "metadata": {},
     "output_type": "execute_result"
    }
   ],
   "source": [
    "df['created_utc'].min()"
   ]
  },
  {
   "cell_type": "code",
   "execution_count": 15,
   "metadata": {},
   "outputs": [
    {
     "data": {
      "text/plain": [
       "Customer5019     33\n",
       "Customer8877     17\n",
       "Customer2832     11\n",
       "Customer13370    11\n",
       "Customer2742      9\n",
       "                 ..\n",
       "Customer16739     1\n",
       "Customer10765     1\n",
       "Customer10764     1\n",
       "Customer10763     1\n",
       "Customer1         1\n",
       "Name: customer_name, Length: 17738, dtype: int64"
      ]
     },
     "execution_count": 15,
     "metadata": {},
     "output_type": "execute_result"
    }
   ],
   "source": [
    "df['customer_name'].value_counts()\n"
   ]
  },
  {
   "cell_type": "code",
   "execution_count": 16,
   "metadata": {},
   "outputs": [
    {
     "ename": "SyntaxError",
     "evalue": "incomplete input (2800851125.py, line 48)",
     "output_type": "error",
     "traceback": [
      "\u001b[0;36m  Cell \u001b[0;32mIn[16], line 48\u001b[0;36m\u001b[0m\n\u001b[0;31m    (analysis_df['current_period_end_utc'] > reference_date)\u001b[0m\n\u001b[0m                                                            ^\u001b[0m\n\u001b[0;31mSyntaxError\u001b[0m\u001b[0;31m:\u001b[0m incomplete input\n"
     ]
    }
   ],
   "source": [
    "\n",
    "\n",
    "# Define conversion and cancellation logic\n",
    "analysis_df['paid_after_trial'] = (\n",
    "    (analysis_df['status'] == 'active') |\n",
    "    ((analysis_df['status'] == 'canceled') &\n",
    "     (analysis_df['only_trial'] == False) &\n",
    "     (analysis_df['canceled_at_utc'].isna())) |\n",
    "    ((analysis_df['status'] == 'canceled') &\n",
    "     (analysis_df['canceled_at_utc'] > analysis_df['trial_end_utc']))\n",
    ")\n",
    "\n",
    "analysis_df['cancel_during_trial'] = (\n",
    "    ((analysis_df['status'] == 'canceled') &\n",
    "     (analysis_df['canceled_at_utc'] <= analysis_df['trial_end_utc'])) |\n",
    "    ((analysis_df['status'] == 'trialing') & \n",
    "     (analysis_df['canceled_at_utc'].notna()))\n",
    ")\n",
    "\n",
    "# Cas 1: Clients avec essai - remboursés dans les 14 jours après l'essai\n",
    "refund_after_trial = (\n",
    "    (analysis_df['status'] == 'canceled') &\n",
    "    (analysis_df['trial_end_utc'].notna()) &  # A eu un essai\n",
    "    (analysis_df['only_trial'] == False) &\n",
    "    (analysis_df['cancel_during_trial'] == False) &\n",
    "    (analysis_df['canceled_at_utc'] < analysis_df['trial_end_utc'] + pd.Timedelta(days=14)) &\n",
    "    (analysis_df['canceled_at_utc'] > analysis_df['trial_end_utc'])  # Annulé APRÈS l'essai\n",
    ")\n",
    "\n",
    "# Cas 2: Clients sans essai - remboursés dans les 14 jours après le début de facturation\n",
    "refund_no_trial = (\n",
    "    (analysis_df['status'] == 'canceled') &\n",
    "    (analysis_df['trial_end_utc'].isna()) &  # Pas d'essai\n",
    "    (analysis_df['canceled_at_utc'] < analysis_df['current_period_start_utc'] + pd.Timedelta(days=14))\n",
    ")\n",
    "\n",
    "# Combinaison des deux cas\n",
    "analysis_df['was_refund'] = refund_after_trial | refund_no_trial\n",
    "\n",
    "analysis_df['in_churn_period'] = (\n",
    "    ((analysis_df['status'] == 'active') &\n",
    "     (analysis_df['trial_end_utc'] + pd.Timedelta(days=14) >= reference_date)) |\n",
    "    ((analysis_df['status'] == 'active') &\n",
    "     (analysis_df['current_period_start_utc'] + pd.Timedelta(days=14) >= reference_date))\n",
    ")\n",
    "\n",
    "analysis_df['end_soon'] = (\n",
    "    (analysis_df['status'] == 'active') &\n",
    "    (analysis_df['current_period_end_utc'] + pd.Timedelta(days=14) >= reference_date) &\n",
    "    (analysis_df['current_period_end_utc'] > reference_date)"
   ]
  }
 ],
 "metadata": {
  "kernelspec": {
   "display_name": "lewagon",
   "language": "python",
   "name": "python3"
  },
  "language_info": {
   "codemirror_mode": {
    "name": "ipython",
    "version": 3
   },
   "file_extension": ".py",
   "mimetype": "text/x-python",
   "name": "python",
   "nbconvert_exporter": "python",
   "pygments_lexer": "ipython3",
   "version": "3.10.6"
  }
 },
 "nbformat": 4,
 "nbformat_minor": 2
}
