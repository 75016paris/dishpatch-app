{
 "cells": [
  {
   "cell_type": "code",
   "execution_count": 2,
   "metadata": {},
   "outputs": [],
   "source": [
    "# IMPORT LIBRARIES\n",
    "##################\n",
    "\n",
    "import os\n",
    "import pandas as pd\n",
    "import numpy as np\n",
    "import seaborn as sns\n",
    "import matplotlib.pyplot as plt\n",
    "import matplotlib.dates as mdates\n",
    "from datetime import datetime\n",
    "import pytz\n",
    "import warnings\n",
    "warnings.filterwarnings('ignore')"
   ]
  },
  {
   "cell_type": "code",
   "execution_count": 3,
   "metadata": {},
   "outputs": [],
   "source": [
    "# VISUAL SETTINGS\n",
    "##################\n",
    "\n",
    "plt.style.use('seaborn-v0_8-whitegrid')\n",
    "plt.rcParams['figure.figsize'] = (15, 8)\n",
    "plt.rcParams['font.size'] = 12\n",
    "sns.set_palette(\"viridis\")"
   ]
  },
  {
   "cell_type": "code",
   "execution_count": 4,
   "metadata": {},
   "outputs": [
    {
     "name": "stdout",
     "output_type": "stream",
     "text": [
      "[DEV] Would rename: data.csv → 2025-06-02_13-30-33_data.csv\n",
      "[DEV] Would rename: DishpatchSubscriptionData_NIklas_Sanitised - subscriptions (2).csv → 2025-05-29_18-44-09_DishpatchSubscriptionData_NIklas_Sanitised - subscriptions (2).csv\n"
     ]
    }
   ],
   "source": [
    "# LOADING CSV\n",
    "##################\n",
    "\n",
    "def load_latest_csv(data_dir='data', rename_files=False):\n",
    "    \"\"\"Load the most recent CSV file from the data directory\"\"\"\n",
    "    files = [\n",
    "        os.path.join(data_dir, f)\n",
    "        for f in os.listdir(data_dir)\n",
    "        if os.path.isfile(os.path.join(data_dir, f)) and f.endswith('.csv')\n",
    "    ]\n",
    "\n",
    "    sorted_files = sorted(files, key=os.path.getctime, reverse=True)\n",
    "\n",
    "    for file_path in sorted_files:\n",
    "        created_at = datetime.fromtimestamp(os.path.getctime(file_path))\n",
    "        timestamp_str = created_at.strftime('%Y-%m-%d_%H-%M-%S')\n",
    "        original_name = os.path.basename(file_path)\n",
    "        new_name = f\"{timestamp_str}_{original_name}\"\n",
    "        new_path = os.path.join(data_dir, new_name)\n",
    "\n",
    "        if rename_files:\n",
    "            if not original_name.startswith(timestamp_str):\n",
    "                os.rename(file_path, new_path)\n",
    "                print(f\"Renamed: {original_name} → {new_name}\")\n",
    "                file_path = new_path\n",
    "            else:\n",
    "                print(f\"Already renamed: {original_name}\")\n",
    "        else:\n",
    "            print(f\"[DEV] Would rename: {original_name} → {new_name}\")\n",
    "\n",
    "    return pd.read_csv(sorted_files[0])\n",
    "\n",
    "# Load data\n",
    "df_raw = load_latest_csv()"
   ]
  },
  {
   "cell_type": "code",
   "execution_count": null,
   "metadata": {},
   "outputs": [],
   "source": []
  },
  {
   "cell_type": "code",
   "execution_count": 5,
   "metadata": {},
   "outputs": [
    {
     "name": "stdout",
     "output_type": "stream",
     "text": [
      "📅 Reference date (TODAY) for analysis: 02-06-2025\n"
     ]
    }
   ],
   "source": [
    "# DATA PREPROCESSING\n",
    "##################\n",
    "\n",
    "def preprocess_data(df):\n",
    "    \"\"\"Clean and preprocess the subscription data\"\"\"\n",
    "    df = df.copy()\n",
    "\n",
    "    # Date conversion\n",
    "    date_cols = [col for col in df.columns if '(UTC)' in col]\n",
    "    for col in date_cols:\n",
    "        df[col] = pd.to_datetime(df[col], errors='coerce', utc=True)\n",
    "\n",
    "    df = df.sort_values(by='Created (UTC)')\n",
    "\n",
    "    # Column selection and renaming\n",
    "    columns_to_keep = [\n",
    "        'Customer Name', 'Status', 'Cancellation Reason',\n",
    "        'Created (UTC)', 'Start (UTC)', 'Start Date (UTC)', \n",
    "        'Current Period Start (UTC)', 'Current Period End (UTC)', \n",
    "        'Trial Start (UTC)', 'Trial End (UTC)',\n",
    "        'Canceled At (UTC)', 'Ended At (UTC)', \n",
    "        'senderShopifyCustomerId (metadata)'\n",
    "    ]\n",
    "    \n",
    "    df = df[columns_to_keep]\n",
    "\n",
    "    df.rename(columns={\n",
    "        'Customer ID': 'customer_id',\n",
    "        'Customer Name': 'customer_name',\n",
    "        'Status': 'status',\n",
    "        'Cancellation Reason': 'cancellation_reason',\n",
    "        'Created (UTC)': 'created_utc',\n",
    "        'Start (UTC)': 'start_utc',\n",
    "        'Start Date (UTC)': 'start_date_utc',\n",
    "        'Current Period Start (UTC)': 'current_period_start_utc',\n",
    "        'Current Period End (UTC)': 'current_period_end_utc',\n",
    "        'Trial Start (UTC)': 'trial_start_utc',\n",
    "        'Trial End (UTC)': 'trial_end_utc',\n",
    "        'Canceled At (UTC)': 'canceled_at_utc',\n",
    "        'Ended At (UTC)': 'ended_at_utc',\n",
    "        'senderShopifyCustomerId (metadata)': 'is_gifted_member'\n",
    "    }, inplace=True)\n",
    "\n",
    "    # Convert is_gifted_member to boolean\n",
    "    df['is_gifted_member'] = df['is_gifted_member'].notna() \n",
    "\n",
    "    # Reference date for analysis\n",
    "    reference_date = pd.Timestamp.now(tz='UTC')\n",
    "    print(f\"📅 Reference date (TODAY) for analysis: {reference_date.strftime('%d-%m-%Y')}\")\n",
    "\n",
    "    # Consolidate status\n",
    "    df.loc[df['status'].isin(['past_due', 'incomplete_expired']), 'status'] = 'canceled'\n",
    "\n",
    "    return df, reference_date\n",
    "\n",
    "df, reference_date = preprocess_data(df_raw)"
   ]
  },
  {
   "cell_type": "code",
   "execution_count": 6,
   "metadata": {},
   "outputs": [],
   "source": [
    "# HELPER FUNCTIONS\n",
    "##################\n",
    "\n",
    "def clean_membership_data(df):\n",
    "    \"\"\"Clean and prepare membership data for analysis\"\"\"\n",
    "    # Remove very short subscriptions (likely test accounts)\n",
    "    df['duration_days'] = (pd.to_datetime(df['ended_at_utc']) - pd.to_datetime(df['created_utc'])).dt.days\n",
    "    \n",
    "    # Keep accounts that are either:\n",
    "    # 1. Longer than 1 day, OR\n",
    "    # 2. Still active/trialing (even if recent)\n",
    "    df_clean = df[~((df['duration_days'] < 1) & ~(df['status'].isin(['active', 'trialing'])))]\n",
    "    \n",
    "    # Remove duplicate signups (within 12 hours)\n",
    "    df_clean = df_clean.sort_values(['customer_name', 'created_utc'], ascending=[True, False])\n",
    "    df_clean['time_diff'] = df_clean.groupby('customer_name')['created_utc'].diff()\n",
    "    \n",
    "    # Remove duplicates but keep the most recent (due to descending sort)\n",
    "    df_clean = df_clean[~((df_clean['time_diff'] < pd.Timedelta(hours=12)) & (df_clean['time_diff'].notna()))]\n",
    "    df_clean = df_clean.sort_values('created_utc', ascending=True)\n",
    "    \n",
    "    return df_clean.drop(['duration_days', 'time_diff'], axis=1)\n",
    "\n",
    "\n",
    "\n",
    "def calculate_real_duration(row):\n",
    "    \"\"\"Calculate actual subscription duration from signup to end/current\"\"\"\n",
    "    # Always start from actual signup date\n",
    "    start_date = row['created_utc']\n",
    "    \n",
    "    # End date logic based on account status\n",
    "    if pd.notna(row['ended_at_utc']):\n",
    "        # Account has ended (canceled, expired, etc.)\n",
    "        end_date = row['ended_at_utc']\n",
    "    elif row['status'] in ['canceled'] and pd.notna(row['canceled_at_utc']):\n",
    "        # Edge case: canceled but no ended_at_utc\n",
    "        end_date = row['canceled_at_utc']\n",
    "    else:\n",
    "        # Active account: use end of current period\n",
    "        end_date = row['current_period_end_utc']\n",
    "    \n",
    "    return (end_date - start_date).days\n",
    "\n",
    "\n",
    "\n",
    "def calculate_trial_duration(row):\n",
    "    \"\"\"Calculate trial duration in days\"\"\"\n",
    "    if pd.notna(row['trial_start_utc']) and pd.notna(row['trial_end_utc']):\n",
    "        start_date = row['trial_start_utc']\n",
    "        end_date = row['trial_end_utc']\n",
    "        return (end_date - start_date).days\n",
    "    return 0\n",
    "\n",
    "def calculate_period_duration(row):\n",
    "    \"\"\"Calculate current billing period duration\"\"\"\n",
    "    if pd.notna(row['current_period_start_utc']) and pd.notna(row['current_period_end_utc']):\n",
    "        return (row['current_period_end_utc'] - row['current_period_start_utc']).dt.days\n",
    "    return np.nan\n",
    "\n",
    "def calculate_unknown_period(row):\n",
    "    \"\"\"Calculate gap between signup and first billing period (onboarding time)\"\"\"\n",
    "    if pd.notna(row['created_utc']) and pd.notna(row['current_period_start_utc']):\n",
    "        return (row['current_period_start_utc'] - row['created_utc']).dt.days\n",
    "    return 0\n",
    "\n",
    "\n",
    "\n",
    "def categorize_duration(duration):\n",
    "    \"\"\"Categorize subscription durations into business-meaningful groups\"\"\"\n",
    "    if duration <= 9:\n",
    "        return \"Early Cancellation (0-9 days)\"\n",
    "    elif 10 <= duration <= 24:\n",
    "        return \"10-day Trial + Refund (10-24 days)\"\n",
    "    elif 25 <= duration <= 34:\n",
    "        return \"20-day Trial + Refund (25-34 days)\" \n",
    "    elif 35 <= duration <= 55:\n",
    "        return \"30-day Trial + Refund (35-55 days)\"\n",
    "    elif 360 <= duration <= 420:\n",
    "        return \"Annual Subscription (360-420 days)\"\n",
    "    elif 730 <= duration <= 770:\n",
    "        return \"Two Year Subscription (730-770 days)\"\n",
    "    else:\n",
    "        return f\"Other ({duration} days)\"\n",
    "    \n",
    "\n",
    "def categorize_status_detailed(row):\n",
    "    \"\"\"Enhanced status categorization based on multiple fields\"\"\"\n",
    "    status = row['status']\n",
    "    has_cancellation_reason = pd.notna(row['cancellation_reason'])\n",
    "    cancel_at_period_end = row.get('cancel_at_period_end', False)\n",
    "    \n",
    "    if status == 'canceled':\n",
    "        return 'Canceled'\n",
    "    elif status == 'active' and has_cancellation_reason:\n",
    "        return 'Active - Pending Cancellation'\n",
    "    elif status == 'active':\n",
    "        return 'Active'\n",
    "    elif status == 'trialing' and has_cancellation_reason:\n",
    "        return 'Trial - Canceled'\n",
    "    elif status == 'trialing':\n",
    "        return 'Trial - Active'\n",
    "    elif status == 'past_due':\n",
    "        return 'Payment Issues'\n",
    "    elif status == 'incomplete_expired':\n",
    "        return 'Payment Failed'\n",
    "    else:\n",
    "        return status.title()"
   ]
  },
  {
   "cell_type": "code",
   "execution_count": 7,
   "metadata": {},
   "outputs": [],
   "source": [
    "def analyze_subscription_patterns(df):\n",
    "    \"\"\"Main analysis function that applies all calculations\"\"\"\n",
    "    print(\"Starting subscription analysis...\")\n",
    "    \n",
    "    # Clean the data\n",
    "    df_clean = clean_membership_data(df)\n",
    "    print(f\"Data cleaned: {len(df)} → {len(df_clean)} records\")\n",
    "    \n",
    "    # Calculate all duration metrics\n",
    "    df_clean['real_duration'] = df_clean.apply(calculate_real_duration, axis=1)\n",
    "    df_clean['trial_duration'] = df_clean.apply(calculate_trial_duration, axis=1)\n",
    "    \n",
    "    # Calculate period metrics\n",
    "    df_clean['period_duration'] = (\n",
    "        pd.to_datetime(df_clean['current_period_end_utc']) - \n",
    "        pd.to_datetime(df_clean['current_period_start_utc'])\n",
    "    ).dt.days\n",
    "    \n",
    "    df_clean['unknown_period'] = (\n",
    "        pd.to_datetime(df_clean['current_period_start_utc']) - \n",
    "        pd.to_datetime(df_clean['created_utc'])\n",
    "    ).dt.days\n",
    "    \n",
    "    # Apply categorizations\n",
    "    df_clean['duration_category'] = df_clean['real_duration'].apply(categorize_duration)\n",
    "    df_clean['status_detailed'] = df_clean.apply(categorize_status_detailed, axis=1)\n",
    "    \n",
    "    # Add helper flags\n",
    "    df_clean['only_trial'] = df_clean['period_duration'] == df_clean['trial_duration']\n",
    "    df_clean['has_trial'] = df_clean['trial_duration'] > 0\n",
    "    df_clean['is_pending_cancellation'] = (\n",
    "        (df_clean['status'] == 'active') & \n",
    "        pd.notna(df_clean['cancellation_reason'])\n",
    "    )\n",
    "    \n",
    "    print(\"Analysis complete!\")\n",
    "    return df_clean"
   ]
  },
  {
   "cell_type": "code",
   "execution_count": 8,
   "metadata": {},
   "outputs": [
    {
     "ename": "NameError",
     "evalue": "name 'analysis_df' is not defined",
     "output_type": "error",
     "traceback": [
      "\u001b[0;31m---------------------------------------------------------------------------\u001b[0m",
      "\u001b[0;31mNameError\u001b[0m                                 Traceback (most recent call last)",
      "Cell \u001b[0;32mIn[8], line 1\u001b[0m\n\u001b[0;32m----> 1\u001b[0m analysis_df[\u001b[38;5;124m'\u001b[39m\u001b[38;5;124mcreated_year\u001b[39m\u001b[38;5;124m'\u001b[39m] \u001b[38;5;241m=\u001b[39m \u001b[43manalysis_df\u001b[49m[\u001b[38;5;124m'\u001b[39m\u001b[38;5;124mcreated_utc\u001b[39m\u001b[38;5;124m'\u001b[39m]\u001b[38;5;241m.\u001b[39mdt\u001b[38;5;241m.\u001b[39myear                     \u001b[38;5;66;03m# Année\u001b[39;00m\n\u001b[1;32m      2\u001b[0m analysis_df[\u001b[38;5;124m'\u001b[39m\u001b[38;5;124mcreated_week_num\u001b[39m\u001b[38;5;124m'\u001b[39m] \u001b[38;5;241m=\u001b[39m analysis_df[\u001b[38;5;124m'\u001b[39m\u001b[38;5;124mcreated_utc\u001b[39m\u001b[38;5;124m'\u001b[39m]\u001b[38;5;241m.\u001b[39mdt\u001b[38;5;241m.\u001b[39misocalendar()\u001b[38;5;241m.\u001b[39mweek\n",
      "\u001b[0;31mNameError\u001b[0m: name 'analysis_df' is not defined"
     ]
    }
   ],
   "source": [
    "analysis_df['created_year'] = analysis_df['created_utc'].dt.year                     # Année\n",
    "analysis_df['created_week_num'] = analysis_df['created_utc'].dt.isocalendar().week"
   ]
  },
  {
   "cell_type": "code",
   "execution_count": 9,
   "metadata": {},
   "outputs": [
    {
     "name": "stdout",
     "output_type": "stream",
     "text": [
      "Starting subscription analysis...\n",
      "Data cleaned: 20443 → 17127 records\n",
      "Analysis complete!\n",
      "Duration Categories:\n",
      "Annual Subscription (360-420 days)      6370\n",
      "10-day Trial + Refund (10-24 days)      6256\n",
      "Early Cancellation (0-9 days)           1936\n",
      "Two Year Subscription (730-770 days)    1754\n",
      "20-day Trial + Refund (25-34 days)       463\n",
      "                                        ... \n",
      "Other (433 days)                           1\n",
      "Other (84 days)                            1\n",
      "Other (92 days)                            1\n",
      "Other (81 days)                            1\n",
      "Other (291 days)                           1\n",
      "Name: duration_category, Length: 113, dtype: int64\n",
      "\n",
      "Detailed Status:\n",
      "Canceled                         10608\n",
      "Active                            6114\n",
      "Active - Pending Cancellation      252\n",
      "Trial - Active                     139\n",
      "Trial - Canceled                    14\n",
      "Name: status_detailed, dtype: int64\n",
      "\n",
      "Trial Analysis:\n",
      "Users with trials: 15,313\n",
      "Trial-only accounts: 7,736\n",
      "Pending cancellations: 252\n"
     ]
    }
   ],
   "source": [
    "# Example usage:\n",
    "\n",
    "# Apply the analysis\n",
    "analysis_df = analyze_subscription_patterns(df)\n",
    "\n",
    "# View results\n",
    "print(\"Duration Categories:\")\n",
    "print(analysis_df['duration_category'].value_counts())\n",
    "\n",
    "print(\"\\nDetailed Status:\")\n",
    "print(analysis_df['status_detailed'].value_counts())\n",
    "\n",
    "print(\"\\nTrial Analysis:\")\n",
    "print(f\"Users with trials: {analysis_df['has_trial'].sum():,}\")\n",
    "print(f\"Trial-only accounts: {analysis_df['only_trial'].sum():,}\")\n",
    "print(f\"Pending cancellations: {analysis_df['is_pending_cancellation'].sum():,}\")\n"
   ]
  },
  {
   "cell_type": "code",
   "execution_count": 10,
   "metadata": {},
   "outputs": [
    {
     "ename": "KeyError",
     "evalue": "'created_year'",
     "output_type": "error",
     "traceback": [
      "\u001b[0;31m---------------------------------------------------------------------------\u001b[0m",
      "\u001b[0;31mKeyError\u001b[0m                                  Traceback (most recent call last)",
      "Cell \u001b[0;32mIn[10], line 10\u001b[0m\n\u001b[1;32m      2\u001b[0m full_members \u001b[38;5;241m=\u001b[39m analysis_df[\n\u001b[1;32m      3\u001b[0m     (analysis_df[\u001b[38;5;124m'\u001b[39m\u001b[38;5;124mstatus\u001b[39m\u001b[38;5;124m'\u001b[39m] \u001b[38;5;241m==\u001b[39m \u001b[38;5;124m'\u001b[39m\u001b[38;5;124mactive\u001b[39m\u001b[38;5;124m'\u001b[39m) \u001b[38;5;241m&\u001b[39m\n\u001b[1;32m      4\u001b[0m     (analysis_df[\u001b[38;5;124m'\u001b[39m\u001b[38;5;124mis_gifted_member\u001b[39m\u001b[38;5;124m'\u001b[39m] \u001b[38;5;241m==\u001b[39m \u001b[38;5;28;01mFalse\u001b[39;00m)  \u001b[38;5;66;03m# Changed 'false' string to False boolean\u001b[39;00m\n\u001b[1;32m      5\u001b[0m ]\n\u001b[1;32m      7\u001b[0m \u001b[38;5;66;03m# Filter to Sep 2023 onwards and group by week\u001b[39;00m\n\u001b[1;32m      8\u001b[0m weekly_members \u001b[38;5;241m=\u001b[39m (\n\u001b[1;32m      9\u001b[0m     \u001b[43mfull_members\u001b[49m\u001b[43m[\u001b[49m\u001b[43mfull_members\u001b[49m\u001b[43m[\u001b[49m\u001b[38;5;124;43m'\u001b[39;49m\u001b[38;5;124;43mcreated_utc\u001b[39;49m\u001b[38;5;124;43m'\u001b[39;49m\u001b[43m]\u001b[49m\u001b[43m \u001b[49m\u001b[38;5;241;43m>\u001b[39;49m\u001b[38;5;241;43m=\u001b[39;49m\u001b[43m \u001b[49m\u001b[38;5;124;43m'\u001b[39;49m\u001b[38;5;124;43m2023-09-01\u001b[39;49m\u001b[38;5;124;43m'\u001b[39;49m\u001b[43m]\u001b[49m\n\u001b[0;32m---> 10\u001b[0m \u001b[43m    \u001b[49m\u001b[38;5;241;43m.\u001b[39;49m\u001b[43mgroupby\u001b[49m\u001b[43m(\u001b[49m\u001b[43m[\u001b[49m\u001b[38;5;124;43m'\u001b[39;49m\u001b[38;5;124;43mcreated_year\u001b[39;49m\u001b[38;5;124;43m'\u001b[39;49m\u001b[43m,\u001b[49m\u001b[43m \u001b[49m\u001b[38;5;124;43m'\u001b[39;49m\u001b[38;5;124;43mcreated_week_num\u001b[39;49m\u001b[38;5;124;43m'\u001b[39;49m\u001b[43m]\u001b[49m\u001b[43m)\u001b[49m\n\u001b[1;32m     11\u001b[0m     \u001b[38;5;241m.\u001b[39msize()\n\u001b[1;32m     12\u001b[0m     \u001b[38;5;241m.\u001b[39mreset_index()  \u001b[38;5;66;03m# Reset index to make plotting easier\u001b[39;00m\n\u001b[1;32m     13\u001b[0m )\n\u001b[1;32m     15\u001b[0m \u001b[38;5;28mprint\u001b[39m(\u001b[38;5;124m\"\u001b[39m\u001b[38;5;124mWeekly New Full Member Count:\u001b[39m\u001b[38;5;124m\"\u001b[39m)\n\u001b[1;32m     16\u001b[0m \u001b[38;5;28mprint\u001b[39m(weekly_members)\n",
      "File \u001b[0;32m~/.pyenv/versions/3.10.6/envs/lewagon/lib/python3.10/site-packages/pandas/core/frame.py:7721\u001b[0m, in \u001b[0;36mDataFrame.groupby\u001b[0;34m(self, by, axis, level, as_index, sort, group_keys, squeeze, observed, dropna)\u001b[0m\n\u001b[1;32m   7716\u001b[0m axis \u001b[38;5;241m=\u001b[39m \u001b[38;5;28mself\u001b[39m\u001b[38;5;241m.\u001b[39m_get_axis_number(axis)\n\u001b[1;32m   7718\u001b[0m \u001b[38;5;66;03m# https://github.com/python/mypy/issues/7642\u001b[39;00m\n\u001b[1;32m   7719\u001b[0m \u001b[38;5;66;03m# error: Argument \"squeeze\" to \"DataFrameGroupBy\" has incompatible type\u001b[39;00m\n\u001b[1;32m   7720\u001b[0m \u001b[38;5;66;03m# \"Union[bool, NoDefault]\"; expected \"bool\"\u001b[39;00m\n\u001b[0;32m-> 7721\u001b[0m \u001b[38;5;28;01mreturn\u001b[39;00m \u001b[43mDataFrameGroupBy\u001b[49m\u001b[43m(\u001b[49m\n\u001b[1;32m   7722\u001b[0m \u001b[43m    \u001b[49m\u001b[43mobj\u001b[49m\u001b[38;5;241;43m=\u001b[39;49m\u001b[38;5;28;43mself\u001b[39;49m\u001b[43m,\u001b[49m\n\u001b[1;32m   7723\u001b[0m \u001b[43m    \u001b[49m\u001b[43mkeys\u001b[49m\u001b[38;5;241;43m=\u001b[39;49m\u001b[43mby\u001b[49m\u001b[43m,\u001b[49m\n\u001b[1;32m   7724\u001b[0m \u001b[43m    \u001b[49m\u001b[43maxis\u001b[49m\u001b[38;5;241;43m=\u001b[39;49m\u001b[43maxis\u001b[49m\u001b[43m,\u001b[49m\n\u001b[1;32m   7725\u001b[0m \u001b[43m    \u001b[49m\u001b[43mlevel\u001b[49m\u001b[38;5;241;43m=\u001b[39;49m\u001b[43mlevel\u001b[49m\u001b[43m,\u001b[49m\n\u001b[1;32m   7726\u001b[0m \u001b[43m    \u001b[49m\u001b[43mas_index\u001b[49m\u001b[38;5;241;43m=\u001b[39;49m\u001b[43mas_index\u001b[49m\u001b[43m,\u001b[49m\n\u001b[1;32m   7727\u001b[0m \u001b[43m    \u001b[49m\u001b[43msort\u001b[49m\u001b[38;5;241;43m=\u001b[39;49m\u001b[43msort\u001b[49m\u001b[43m,\u001b[49m\n\u001b[1;32m   7728\u001b[0m \u001b[43m    \u001b[49m\u001b[43mgroup_keys\u001b[49m\u001b[38;5;241;43m=\u001b[39;49m\u001b[43mgroup_keys\u001b[49m\u001b[43m,\u001b[49m\n\u001b[1;32m   7729\u001b[0m \u001b[43m    \u001b[49m\u001b[43msqueeze\u001b[49m\u001b[38;5;241;43m=\u001b[39;49m\u001b[43msqueeze\u001b[49m\u001b[43m,\u001b[49m\u001b[43m  \u001b[49m\u001b[38;5;66;43;03m# type: ignore[arg-type]\u001b[39;49;00m\n\u001b[1;32m   7730\u001b[0m \u001b[43m    \u001b[49m\u001b[43mobserved\u001b[49m\u001b[38;5;241;43m=\u001b[39;49m\u001b[43mobserved\u001b[49m\u001b[43m,\u001b[49m\n\u001b[1;32m   7731\u001b[0m \u001b[43m    \u001b[49m\u001b[43mdropna\u001b[49m\u001b[38;5;241;43m=\u001b[39;49m\u001b[43mdropna\u001b[49m\u001b[43m,\u001b[49m\n\u001b[1;32m   7732\u001b[0m \u001b[43m\u001b[49m\u001b[43m)\u001b[49m\n",
      "File \u001b[0;32m~/.pyenv/versions/3.10.6/envs/lewagon/lib/python3.10/site-packages/pandas/core/groupby/groupby.py:882\u001b[0m, in \u001b[0;36mGroupBy.__init__\u001b[0;34m(self, obj, keys, axis, level, grouper, exclusions, selection, as_index, sort, group_keys, squeeze, observed, mutated, dropna)\u001b[0m\n\u001b[1;32m    879\u001b[0m \u001b[38;5;28;01mif\u001b[39;00m grouper \u001b[38;5;129;01mis\u001b[39;00m \u001b[38;5;28;01mNone\u001b[39;00m:\n\u001b[1;32m    880\u001b[0m     \u001b[38;5;28;01mfrom\u001b[39;00m\u001b[38;5;250m \u001b[39m\u001b[38;5;21;01mpandas\u001b[39;00m\u001b[38;5;21;01m.\u001b[39;00m\u001b[38;5;21;01mcore\u001b[39;00m\u001b[38;5;21;01m.\u001b[39;00m\u001b[38;5;21;01mgroupby\u001b[39;00m\u001b[38;5;21;01m.\u001b[39;00m\u001b[38;5;21;01mgrouper\u001b[39;00m\u001b[38;5;250m \u001b[39m\u001b[38;5;28;01mimport\u001b[39;00m get_grouper\n\u001b[0;32m--> 882\u001b[0m     grouper, exclusions, obj \u001b[38;5;241m=\u001b[39m \u001b[43mget_grouper\u001b[49m\u001b[43m(\u001b[49m\n\u001b[1;32m    883\u001b[0m \u001b[43m        \u001b[49m\u001b[43mobj\u001b[49m\u001b[43m,\u001b[49m\n\u001b[1;32m    884\u001b[0m \u001b[43m        \u001b[49m\u001b[43mkeys\u001b[49m\u001b[43m,\u001b[49m\n\u001b[1;32m    885\u001b[0m \u001b[43m        \u001b[49m\u001b[43maxis\u001b[49m\u001b[38;5;241;43m=\u001b[39;49m\u001b[43maxis\u001b[49m\u001b[43m,\u001b[49m\n\u001b[1;32m    886\u001b[0m \u001b[43m        \u001b[49m\u001b[43mlevel\u001b[49m\u001b[38;5;241;43m=\u001b[39;49m\u001b[43mlevel\u001b[49m\u001b[43m,\u001b[49m\n\u001b[1;32m    887\u001b[0m \u001b[43m        \u001b[49m\u001b[43msort\u001b[49m\u001b[38;5;241;43m=\u001b[39;49m\u001b[43msort\u001b[49m\u001b[43m,\u001b[49m\n\u001b[1;32m    888\u001b[0m \u001b[43m        \u001b[49m\u001b[43mobserved\u001b[49m\u001b[38;5;241;43m=\u001b[39;49m\u001b[43mobserved\u001b[49m\u001b[43m,\u001b[49m\n\u001b[1;32m    889\u001b[0m \u001b[43m        \u001b[49m\u001b[43mmutated\u001b[49m\u001b[38;5;241;43m=\u001b[39;49m\u001b[38;5;28;43mself\u001b[39;49m\u001b[38;5;241;43m.\u001b[39;49m\u001b[43mmutated\u001b[49m\u001b[43m,\u001b[49m\n\u001b[1;32m    890\u001b[0m \u001b[43m        \u001b[49m\u001b[43mdropna\u001b[49m\u001b[38;5;241;43m=\u001b[39;49m\u001b[38;5;28;43mself\u001b[39;49m\u001b[38;5;241;43m.\u001b[39;49m\u001b[43mdropna\u001b[49m\u001b[43m,\u001b[49m\n\u001b[1;32m    891\u001b[0m \u001b[43m    \u001b[49m\u001b[43m)\u001b[49m\n\u001b[1;32m    893\u001b[0m \u001b[38;5;28mself\u001b[39m\u001b[38;5;241m.\u001b[39mobj \u001b[38;5;241m=\u001b[39m obj\n\u001b[1;32m    894\u001b[0m \u001b[38;5;28mself\u001b[39m\u001b[38;5;241m.\u001b[39maxis \u001b[38;5;241m=\u001b[39m obj\u001b[38;5;241m.\u001b[39m_get_axis_number(axis)\n",
      "File \u001b[0;32m~/.pyenv/versions/3.10.6/envs/lewagon/lib/python3.10/site-packages/pandas/core/groupby/grouper.py:882\u001b[0m, in \u001b[0;36mget_grouper\u001b[0;34m(obj, key, axis, level, sort, observed, mutated, validate, dropna)\u001b[0m\n\u001b[1;32m    880\u001b[0m         in_axis, level, gpr \u001b[38;5;241m=\u001b[39m \u001b[38;5;28;01mFalse\u001b[39;00m, gpr, \u001b[38;5;28;01mNone\u001b[39;00m\n\u001b[1;32m    881\u001b[0m     \u001b[38;5;28;01melse\u001b[39;00m:\n\u001b[0;32m--> 882\u001b[0m         \u001b[38;5;28;01mraise\u001b[39;00m \u001b[38;5;167;01mKeyError\u001b[39;00m(gpr)\n\u001b[1;32m    883\u001b[0m \u001b[38;5;28;01melif\u001b[39;00m \u001b[38;5;28misinstance\u001b[39m(gpr, Grouper) \u001b[38;5;129;01mand\u001b[39;00m gpr\u001b[38;5;241m.\u001b[39mkey \u001b[38;5;129;01mis\u001b[39;00m \u001b[38;5;129;01mnot\u001b[39;00m \u001b[38;5;28;01mNone\u001b[39;00m:\n\u001b[1;32m    884\u001b[0m     \u001b[38;5;66;03m# Add key to exclusions\u001b[39;00m\n\u001b[1;32m    885\u001b[0m     exclusions\u001b[38;5;241m.\u001b[39madd(gpr\u001b[38;5;241m.\u001b[39mkey)\n",
      "\u001b[0;31mKeyError\u001b[0m: 'created_year'"
     ]
    }
   ],
   "source": [
    "# Get full members count per week\n",
    "full_members = analysis_df[\n",
    "    (analysis_df['status'] == 'active') &\n",
    "    (analysis_df['is_gifted_member'] == False)  # Changed 'false' string to False boolean\n",
    "]\n",
    "\n",
    "# Filter to Sep 2023 onwards and group by week\n",
    "weekly_members = (\n",
    "    full_members[full_members['created_utc'] >= '2023-09-01']\n",
    "    .groupby(['created_year', 'created_week_num'])\n",
    "    .size()\n",
    "    .reset_index()  # Reset index to make plotting easier\n",
    ")\n",
    "\n",
    "print(\"Weekly New Full Member Count:\")\n",
    "print(weekly_members)\n",
    "\n",
    "plt.figure(figsize=(15, 8))\n",
    "plt.plot(range(len(weekly_members)), weekly_members[0], marker='o', linestyle='-', color='b')\n",
    "plt.title('Weekly New Full Member Count')\n",
    "plt.xlabel('Week Number')\n",
    "plt.ylabel('Number of Full Members')\n",
    "plt.grid(True)\n",
    "plt.show()"
   ]
  },
  {
   "cell_type": "code",
   "execution_count": 120,
   "metadata": {},
   "outputs": [
    {
     "name": "stdout",
     "output_type": "stream",
     "text": [
      "Weekly Cumulative Full Member Count:\n",
      "    created_year  created_week_num   0  cumulative_members\n",
      "0           2023                39  74                  74\n",
      "1           2023                40  54                 128\n",
      "2           2023                41  74                 202\n",
      "3           2023                42  68                 270\n",
      "4           2023                43  72                 342\n",
      "..           ...               ...  ..                 ...\n",
      "82          2025                17  36                5668\n",
      "83          2025                18  80                5748\n",
      "84          2025                19  38                5786\n",
      "85          2025                20  20                5806\n",
      "86          2025                21   7                5813\n",
      "\n",
      "[87 rows x 4 columns]\n"
     ]
    },
    {
     "data": {
      "image/png": "[encoded data removed]",
      "text/plain": [
       "<Figure size 1500x800 with 1 Axes>"
      ]
     },
     "metadata": {},
     "output_type": "display_data"
    }
   ],
   "source": [
    "# Get full members count per week\n",
    "full_members = analysis_df[\n",
    "    (analysis_df['status'] == 'active') &\n",
    "    (analysis_df['is_gifted_member'] == False)  # Changed 'false' string to False boolean\n",
    "]\n",
    "\n",
    "# Filter to Sep 2023 onwards and group by week\n",
    "weekly_members = (\n",
    "    full_members[full_members['created_utc'] >= '2023-09-01']\n",
    "    .groupby(['created_year', 'created_week_num'])\n",
    "    .size()\n",
    "    .reset_index()  # Reset index to make plotting easier\n",
    ")\n",
    "\n",
    "# Calculate cumulative sum\n",
    "weekly_members['cumulative_members'] = weekly_members[0].cumsum()\n",
    "\n",
    "print(\"Weekly Cumulative Full Member Count:\")\n",
    "print(weekly_members)\n",
    "\n",
    "plt.figure(figsize=(15, 8))\n",
    "plt.plot(range(len(weekly_members)), weekly_members['cumulative_members'], marker='o', linestyle='-', color='b')\n",
    "plt.title('Cumulative Full Member Count by Week')\n",
    "\n",
    "\n",
    "plt.xlabel('Week Number')\n",
    "plt.ylabel('Total Number of Full Members')\n",
    "plt.grid(True)\n",
    "plt.show()\n",
    "\n"
   ]
  },
  {
   "cell_type": "code",
   "execution_count": 121,
   "metadata": {},
   "outputs": [
    {
     "data": {
      "text/plain": [
       "Index(['customer_name', 'status', 'cancellation_reason', 'created_utc',\n",
       "       'start_utc', 'start_date_utc', 'current_period_start_utc',\n",
       "       'current_period_end_utc', 'trial_start_utc', 'trial_end_utc',\n",
       "       'canceled_at_utc', 'ended_at_utc', 'is_gifted_member', 'real_duration',\n",
       "       'trial_duration', 'period_duration', 'unknown_period',\n",
       "       'duration_category', 'status_detailed', 'only_trial', 'has_trial',\n",
       "       'is_pending_cancellation', 'created_year', 'created_week_num'],\n",
       "      dtype='object')"
      ]
     },
     "execution_count": 121,
     "metadata": {},
     "output_type": "execute_result"
    }
   ],
   "source": [
    "analysis_df.columns\n"
   ]
  },
  {
   "cell_type": "code",
   "execution_count": 122,
   "metadata": {},
   "outputs": [
    {
     "name": "stdout",
     "output_type": "stream",
     "text": [
      "Weekly Churned Full Member Count:\n",
      "Empty DataFrame\n",
      "Columns: [created_year, created_week_num, 0]\n",
      "Index: []\n"
     ]
    },
    {
     "data": {
      "image/png": "[encoded data removed]",
      "text/plain": [
       "<Figure size 1500x800 with 1 Axes>"
      ]
     },
     "metadata": {},
     "output_type": "display_data"
    }
   ],
   "source": [
    "# Get churned members count per week\n",
    "churned_members = analysis_df[\n",
    "    (analysis_df['status'] == 'churned') &\n",
    "    (analysis_df['is_gifted_member'] == False)  # Changed 'false' string to False boolean\n",
    "]\n",
    "\n",
    "# Filter to Sep 2023 onwards and group by week\n",
    "weekly_churned = (\n",
    "    churned_members[churned_members['created_utc'] >= '2023-09-01']\n",
    "    .groupby(['created_year', 'created_week_num'])\n",
    "    .size()\n",
    "    .reset_index()  # Reset index to make plotting easier\n",
    ")\n",
    "\n",
    "print(\"Weekly Churned Full Member Count:\")\n",
    "print(weekly_churned)\n",
    "\n",
    "plt.figure(figsize=(15, 8))\n",
    "plt.plot(range(len(weekly_churned)), weekly_churned[0], marker='o', linestyle='-', color='r')\n",
    "plt.title('Weekly Churned Full Member Count')\n",
    "plt.xlabel('Week Number')\n",
    "plt.ylabel('Number of Churned Members')\n",
    "plt.grid(True)\n",
    "plt.show()"
   ]
  },
  {
   "cell_type": "code",
   "execution_count": 123,
   "metadata": {},
   "outputs": [
    {
     "data": {
      "text/plain": [
       "Annual Subscription (360-420 days)      6370\n",
       "10-day Trial + Refund (10-24 days)      6256\n",
       "Early Cancellation (0-9 days)           1936\n",
       "Two Year Subscription (730-770 days)    1754\n",
       "20-day Trial + Refund (25-34 days)       463\n",
       "                                        ... \n",
       "Other (433 days)                           1\n",
       "Other (84 days)                            1\n",
       "Other (92 days)                            1\n",
       "Other (81 days)                            1\n",
       "Other (291 days)                           1\n",
       "Name: duration_category, Length: 113, dtype: int64"
      ]
     },
     "execution_count": 123,
     "metadata": {},
     "output_type": "execute_result"
    }
   ],
   "source": [
    "analysis_df['duration_category'].value_counts()"
   ]
  },
  {
   "cell_type": "code",
   "execution_count": 13,
   "metadata": {},
   "outputs": [
    {
     "data": {
      "text/plain": [
       "<Axes: >"
      ]
     },
     "execution_count": 13,
     "metadata": {},
     "output_type": "execute_result"
    },
    {
     "data": {
      "image/png": "[encoded data removed]",
      "text/plain": [
       "<Figure size 1500x800 with 1 Axes>"
      ]
     },
     "metadata": {},
     "output_type": "display_data"
    }
   ],
   "source": [
    "analysis_df['status'].value_counts().plot(kind='bar')"
   ]
  },
  {
   "cell_type": "code",
   "execution_count": null,
   "metadata": {},
   "outputs": [],
   "source": []
  },
  {
   "cell_type": "code",
   "execution_count": null,
   "metadata": {},
   "outputs": [],
   "source": []
  }
 ],
 "metadata": {
  "kernelspec": {
   "display_name": "lewagon",
   "language": "python",
   "name": "python3"
  },
  "language_info": {
   "codemirror_mode": {
    "name": "ipython",
    "version": 3
   },
   "file_extension": ".py",
   "mimetype": "text/x-python",
   "name": "python",
   "nbconvert_exporter": "python",
   "pygments_lexer": "ipython3",
   "version": "3.10.6"
  }
 },
 "nbformat": 4,
 "nbformat_minor": 2
}
