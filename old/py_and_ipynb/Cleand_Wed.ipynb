{
 "cells": [
  {
   "cell_type": "code",
   "execution_count": 1,
   "metadata": {},
   "outputs": [],
   "source": [
    "##################\n",
    "# IMPORT LIBRARIES\n",
    "##################\n",
    "\n",
    "import os\n",
    "import pandas as pd\n",
    "import numpy as np\n",
    "import seaborn as sns\n",
    "import matplotlib.pyplot as plt\n",
    "import matplotlib.dates as mdates\n",
    "from pandas.tseries.offsets import Week\n",
    "from datetime import datetime, timedelta\n",
    "import warnings\n",
    "warnings.filterwarnings('ignore')"
   ]
  },
  {
   "cell_type": "markdown",
   "metadata": {},
   "source": [
    "- **'id'** = interaction id\n",
    "- **'Customer ID'** = UNIQUE CUSTOMER ID *unique = 19976 / value_counts.sum = 19976 / 17, 12, 8, 7, 7....*\n",
    "- 'Customer Name' = PROBLEM multiple customer name of a single customer ID\n",
    "*unique = 17738 / value_counts.sum = 20443 / 33, 17, 11, 11, 9.....*\n",
    "- 'Customer Description' = Migration or special Gifted Status\n",
    "- 'Plan' = plan_1 = 20442 / plan_2 = 1\n",
    "- 'Product' = Supper Club = 20442 / renew test = 1\n",
    "- 'Interval' = year = 20442 / day = 1\n",
    "- 'Amount' = 69 = 20442 / 1 = 1\n",
    "- **'Status'** = 'trialing', 'active', 'canceled', 'past_due', 'incomplete_expired'\n",
    "- **'Created'** = interaction date *'Created (UTC)' is the first date in all rows: True*\n",
    "- **'kind (metadata)'** = Migrated OG Member 552\n",
    "- **''Cancel At Period End'** = False : 16878 / True : 3565\n",
    "\n",
    "\n",
    "\n"
   ]
  },
  {
   "cell_type": "code",
   "execution_count": 2,
   "metadata": {},
   "outputs": [],
   "source": [
    "##################\n",
    "# VISUAL SETTINGS\n",
    "##################\n",
    "\n",
    "plt.style.use('seaborn-v0_8-whitegrid')\n",
    "plt.rcParams['figure.figsize'] = (15, 8)\n",
    "plt.rcParams['font.size'] = 12\n",
    "sns.set_palette(\"viridis\")"
   ]
  },
  {
   "cell_type": "code",
   "execution_count": 3,
   "metadata": {},
   "outputs": [
    {
     "name": "stdout",
     "output_type": "stream",
     "text": [
      "[DEV] Would rename: DishpatchSubscriptionData_NIklas_Sanitised - subscriptions (2).csv → 2025-05-27_20-40-12_DishpatchSubscriptionData_NIklas_Sanitised - subscriptions (2).csv\n"
     ]
    }
   ],
   "source": [
    "##################\n",
    "# LOADING CSV\n",
    "##################\n",
    "\n",
    "# Toggle this flag to True in production\n",
    "RENAME_FILES = False\n",
    "\n",
    "data_dir = 'data'\n",
    "\n",
    "# List and sort files by creation time\n",
    "files = [\n",
    "    os.path.join(data_dir, f)\n",
    "    for f in os.listdir(data_dir)\n",
    "    if os.path.isfile(os.path.join(data_dir, f)) and f.endswith('.csv')\n",
    "]\n",
    "\n",
    "sorted_files = sorted(files, key=os.path.getctime, reverse=True)\n",
    "\n",
    "# Loop over files\n",
    "for file_path in sorted_files:\n",
    "    created_at = datetime.fromtimestamp(os.path.getctime(file_path))\n",
    "    timestamp_str = created_at.strftime('%Y-%m-%d_%H-%M-%S')\n",
    "    original_name = os.path.basename(file_path)\n",
    "    new_name = f\"{timestamp_str}_{original_name}\"\n",
    "    new_path = os.path.join(data_dir, new_name)\n",
    "\n",
    "    if RENAME_FILES:\n",
    "        if not original_name.startswith(timestamp_str):\n",
    "            os.rename(file_path, new_path)\n",
    "            print(f\"Renamed: {original_name} → {new_name}\")\n",
    "            file_path = new_path\n",
    "        else:\n",
    "            print(f\"Already renamed: {original_name}\")\n",
    "    else:\n",
    "        print(f\"[DEV] Would rename: {original_name} → {new_name}\")\n",
    "\n",
    "\n",
    "\n",
    "df_raw = pd.read_csv(file_path)"
   ]
  },
  {
   "cell_type": "code",
   "execution_count": 4,
   "metadata": {},
   "outputs": [],
   "source": [
    "##################\n",
    "# DATA PREPROCESSING\n",
    "# 1\n",
    "###################\n",
    "\n",
    "df = df_raw.copy()\n",
    "\n",
    "# Date conversion\n",
    "date_cols = [col for col in df.columns if '(UTC)' in col]\n",
    "for col in date_cols:\n",
    "    df[col] = pd.to_datetime(df[col], errors='coerce')\n",
    "\n",
    "# Order by Created (UTC)\n",
    "df = df.sort_values(by='Created (UTC)')\n",
    "\n",
    "# Column selection\n",
    "df = df[['id', \n",
    "        'Customer ID',\n",
    "        'Customer Name',\n",
    "        'Status',\n",
    "        'Cancellation Reason',\n",
    "        'Created (UTC)',\n",
    "        'Start (UTC)',\n",
    "        'Start Date (UTC)',\n",
    "        'Current Period Start (UTC)',\n",
    "        'Current Period End (UTC)',\n",
    "        'Trial Start (UTC)',\n",
    "        'Trial End (UTC)',\n",
    "        'Canceled At (UTC)',\n",
    "        'Ended At (UTC)',\n",
    "       'senderShopifyCustomerId (metadata)']]\n",
    "\n",
    "\n",
    "# Renaming and selection\n",
    "df.rename(columns={'Customer ID' : 'customer_id',\n",
    "                   'Customer Name' : 'customer_name',\n",
    "                   'Status' : 'status',\n",
    "                   'Created (UTC)': 'created_utc',\n",
    "                   'Start (UTC)': 'start_utc',\n",
    "                   'Start Date (UTC)': 'start_date_utc',\n",
    "                   'Current Period Start (UTC)': 'current_period_start_utc',\n",
    "                   'Current Period End (UTC)': 'current_period_end_date_utc',\n",
    "                   'Trial Start (UTC)': 'trial_start_utc',\n",
    "                   'Trial End (UTC)': 'trial_end_utc',\n",
    "                   'Canceled At (UTC)': 'canceled_at_utc',\n",
    "                   'Ended At (UTC)': 'ended_at_utc',\n",
    "                   'senderShopifyCustomerId (metadata)': 'is_gifted_member'\n",
    "                }, inplace=True)\n",
    "\n",
    "df['is_gifted_member'] = df['is_gifted_member'].notna()\n",
    "df['extended_trial_period'] = (df['trial_end_utc'] + pd.DateOffset(days=14))\n",
    "\n",
    "# Reference date for analysis\n",
    "reference_date = datetime.now()"
   ]
  },
  {
   "cell_type": "code",
   "execution_count": 5,
   "metadata": {},
   "outputs": [],
   "source": [
    "customer_df = df.groupby('customer_name').agg({\n",
    "    'customer_id': 'first',\n",
    "    'created_utc': 'first',\n",
    "    'status': 'last',\n",
    "    'current_period_start_utc': 'last',\n",
    "    'current_period_end_date_utc': 'last',\n",
    "    'trial_start_utc': 'first',\n",
    "    'trial_end_utc': 'first',\n",
    "    'canceled_at_utc': 'last',\n",
    "    'ended_at_utc': 'last',\n",
    "    'is_gifted_member': 'any',\n",
    "    'id': 'count'}).rename(columns={'id': 'subscription_count'})"
   ]
  },
  {
   "cell_type": "code",
   "execution_count": 6,
   "metadata": {},
   "outputs": [
    {
     "name": "stdout",
     "output_type": "stream",
     "text": [
      "Before cleaning: 17,738 customers\n",
      "After cleaning: 17,710 customers\n",
      "Removed: 28 suspicious customers\n"
     ]
    }
   ],
   "source": [
    "clean_customer_df = customer_df[customer_df['subscription_count'] <= 4]\n",
    "\n",
    "print(f\"Before cleaning: {len(customer_df):,} customers\")\n",
    "print(f\"After cleaning: {len(clean_customer_df):,} customers\")\n",
    "print(f\"Removed: {len(customer_df) - len(clean_customer_df)} suspicious customers\")\n",
    "\n",
    "customer_df = clean_customer_df.copy()"
   ]
  },
  {
   "cell_type": "code",
   "execution_count": 7,
   "metadata": {},
   "outputs": [],
   "source": [
    "# Cancel During Trial\n",
    "customer_df['cancel_during_trial'] = (customer_df['canceled_at_utc'] < customer_df['trial_end_utc']) & (customer_df['canceled_at_utc'].notna())\n",
    "\n",
    "# Cancel During Churn (14 days after trial end)\n",
    "customer_df['cancel_during_churn'] = (customer_df['canceled_at_utc'] > customer_df['trial_end_utc']) & (customer_df['canceled_at_utc'] < customer_df['trial_end_utc'] + pd.DateOffset(days=14)) & (customer_df['canceled_at_utc'].notna())\n",
    "\n",
    "# Cancel During Trial + Churn\n",
    "customer_df['cancel_during_trial_churn'] = (customer_df['cancel_during_trial'] == True) & (customer_df['cancel_during_churn'] == True)\n",
    "\n",
    "# Cancel After Churn\n",
    "customer_df['cancel_after_churn'] = (customer_df['canceled_at_utc'] > customer_df['trial_end_utc'] + pd.DateOffset(days=14)) & (customer_df['canceled_at_utc'].notna())\n",
    "\n",
    "# Full Menber (not gifted, active)\n",
    "customer_df['full_member'] = (customer_df['is_gifted_member'] == False) & (customer_df['status'] == 'active')"
   ]
  },
  {
   "cell_type": "code",
   "execution_count": 8,
   "metadata": {},
   "outputs": [],
   "source": [
    "# Plot 1: Evolution of total active users (not gifted) per week\n",
    "\n",
    "def plot_active_users_weekly(customer_df):\n",
    "    \"\"\"Plot 1: Weekly evolution of total active non-gifted users\"\"\"\n",
    "    \n",
    "    # Filter non-gifted members\n",
    "    non_gifted = customer_df[customer_df['is_gifted_member'] == False].copy()\n",
    "    \n",
    "    # Get date range\n",
    "    start_date = non_gifted['created_utc'].min()\n",
    "    end_date = datetime.now()\n",
    "    \n",
    "    # Create weekly date range\n",
    "    weekly_dates = pd.date_range(start=start_date, end=end_date, freq='W')\n",
    "    active_counts = []\n",
    "    \n",
    "    for week_date in weekly_dates:\n",
    "        # Count users who were active at this point in time\n",
    "        active_at_week = non_gifted[\n",
    "            (non_gifted['created_utc'] <= week_date) &  # User existed\n",
    "            ((non_gifted['ended_at_utc'].isna()) | (non_gifted['ended_at_utc'] > week_date)) &  # Not ended\n",
    "            ((non_gifted['canceled_at_utc'].isna()) | (non_gifted['canceled_at_utc'] > week_date))  # Not canceled\n",
    "        ]\n",
    "        active_counts.append(len(active_at_week))\n",
    "    \n",
    "    # Create plot\n",
    "    plt.figure(figsize=(12, 6))\n",
    "    plt.plot(weekly_dates, active_counts, linewidth=2, marker='o', markersize=4)\n",
    "    plt.title('Evolution of the total number of active (non-gifted) users per week', fontsize=14, fontweight='bold')\n",
    "    plt.xlabel('Date')\n",
    "    plt.ylabel('Number of active users')\n",
    "    plt.grid(True, alpha=0.3)\n",
    "    plt.gca().xaxis.set_major_formatter(mdates.DateFormatter('%Y-%m'))\n",
    "    plt.gca().xaxis.set_major_locator(mdates.MonthLocator(interval=1))\n",
    "    plt.xticks(rotation=45)\n",
    "    plt.tight_layout()\n",
    "    plt.show()\n",
    "    \n",
    "    return weekly_dates, active_counts"
   ]
  },
  {
   "cell_type": "code",
   "execution_count": null,
   "metadata": {},
   "outputs": [],
   "source": [
    "def plot_new_users_and_cancellations_weekly(customer_df):\n",
    "    \"\"\"Plot 2: Weekly new users and cancellations during trial/churn\"\"\"\n",
    "    \n",
    "    # Filter non-gifted members\n",
    "    non_gifted = customer_df[customer_df['is_gifted_member'] == False].copy()\n",
    "    \n",
    "    # Group by week of creation (using resample)\n",
    "    non_gifted_indexed = non_gifted.set_index('created_utc')\n",
    "    \n",
    "    # New users per week\n",
    "    new_users_weekly = non_gifted_indexed.resample('W').size()\n",
    "    \n",
    "    # New users who didn'tcanceled during trial + churn period\n",
    "    trial_churn_cancelers = non_gifted[\n",
    "        (non_gifted['cancel_during_trial'] == True) | \n",
    "        (non_gifted['cancel_during_churn'] == True)\n",
    "    ]\n",
    "    trial_churn_indexed = trial_churn_cancelers.set_index('created_utc')\n",
    "    trial_churn_weekly = trial_churn_indexed.resample('W').size()\n",
    "    \n",
    "    # Align the series\n",
    "    all_weeks = new_users_weekly.index.union(trial_churn_weekly.index)\n",
    "    \n",
    "    new_users_aligned = new_users_weekly.reindex(all_weeks, fill_value=0)\n",
    "    trial_churn_aligned = trial_churn_weekly.reindex(all_weeks, fill_value=0)\n",
    "    \n",
    "    # Create plot\n",
    "    fig, ax = plt.subplots(figsize=(14, 8))\n",
    "    \n",
    "    # Bar plot for new users\n",
    "    bars1 = ax.bar(all_weeks, new_users_aligned.values, alpha=0.7, \n",
    "                   label='Nouveaux utilisateurs (non-gifted)', color='skyblue', width=5)\n",
    "    \n",
    "    # Bar plot for cancellations during trial/churn\n",
    "    bars2 = ax.bar(all_weeks, trial_churn_aligned.values, alpha=0.8, \n",
    "                   label='Annulés pendant trial/churn', color='salmon', width=5)\n",
    "    \n",
    "    # Add percentage labels on top of cancellation bars\n",
    "    for i, (week, new_count, cancel_count) in enumerate(zip(all_weeks, new_users_aligned.values, trial_churn_aligned.values)):\n",
    "        if new_count > 0:\n",
    "            percentage = (cancel_count / new_count) * 100\n",
    "            if cancel_count > 0:\n",
    "                ax.text(week, cancel_count + max(new_users_aligned.values) * 0.01, \n",
    "                       f'{percentage:.1f}%', ha='center', va='bottom', fontsize=8)\n",
    "    \n",
    "    ax.set_title('Évolution hebdomadaire: nouveaux utilisateurs vs annulations (trial/churn)', \n",
    "                fontsize=14, fontweight='bold')\n",
    "    ax.set_xlabel('Date')\n",
    "    ax.set_ylabel('Nombre d\\'utilisateurs')\n",
    "    ax.legend()\n",
    "    ax.grid(True, alpha=0.3)\n",
    "    ax.xaxis.set_major_formatter(mdates.DateFormatter('%Y-%m'))\n",
    "    ax.xaxis.set_major_locator(mdates.MonthLocator(interval=1))\n",
    "    plt.xticks(rotation=45)\n",
    "    plt.tight_layout()\n",
    "    plt.show()\n",
    "    \n",
    "    # Calculate overall statistics\n",
    "    total_new = new_users_aligned.sum()\n",
    "    total_canceled = trial_churn_aligned.sum()\n",
    "    overall_cancel_rate = (total_canceled / total_new) * 100 if total_new > 0 else 0\n",
    "    \n",
    "    print(f\"\\nStatistiques globales:\")\n",
    "    print(f\"Total nouveaux utilisateurs: {total_new}\")\n",
    "    print(f\"Total annulés pendant trial/churn: {total_canceled}\")\n",
    "    print(f\"Taux d'annulation trial/churn: {overall_cancel_rate:.2f}%\")\n",
    "    \n",
    "    return new_users_aligned, trial_churn_aligned"
   ]
  },
  {
   "cell_type": "code",
   "execution_count": 9,
   "metadata": {},
   "outputs": [
    {
     "name": "stdout",
     "output_type": "stream",
     "text": [
      "Generating chart 1: Active users per week\n"
     ]
    },
    {
     "data": {
      "image/png": "[encoded data removed]",
      "text/plain": [
       "<Figure size 1200x600 with 1 Axes>"
      ]
     },
     "metadata": {},
     "output_type": "display_data"
    },
    {
     "name": "stdout",
     "output_type": "stream",
     "text": [
      "Current active users: 5125\n",
      "\n",
      "Generating chart 2: New users and cancellations\n"
     ]
    },
    {
     "ename": "NameError",
     "evalue": "name 'plot_new_users_and_cancellations_weekly' is not defined",
     "output_type": "error",
     "traceback": [
      "\u001b[0;31m---------------------------------------------------------------------------\u001b[0m",
      "\u001b[0;31mNameError\u001b[0m                                 Traceback (most recent call last)",
      "Cell \u001b[0;32mIn[9], line 11\u001b[0m\n\u001b[1;32m      9\u001b[0m \u001b[38;5;66;03m# Plot 2: New users and cancellations\u001b[39;00m\n\u001b[1;32m     10\u001b[0m \u001b[38;5;28mprint\u001b[39m(\u001b[38;5;124m\"\u001b[39m\u001b[38;5;130;01m\\n\u001b[39;00m\u001b[38;5;124mGenerating chart 2: New users and cancellations\u001b[39m\u001b[38;5;124m\"\u001b[39m)\n\u001b[0;32m---> 11\u001b[0m new_users, cancellations \u001b[38;5;241m=\u001b[39m \u001b[43mplot_new_users_and_cancellations_weekly\u001b[49m(customer_df)\n",
      "\u001b[0;31mNameError\u001b[0m: name 'plot_new_users_and_cancellations_weekly' is not defined"
     ]
    }
   ],
   "source": [
    "# Execute both plots\n",
    "if __name__ == \"__main__\":\n",
    "    # Plot 1: Active users evolution\n",
    "    print(\"Generating chart 1: Active users per week\")\n",
    "    weekly_dates, active_counts = plot_active_users_weekly(customer_df)\n",
    "    \n",
    "    print(f\"Current active users: {active_counts[-1] if active_counts else 0}\")\n",
    "    \n",
    "    # Plot 2: New users and cancellations\n",
    "    print(\"\\nGenerating chart 2: New users and cancellations\")\n",
    "    new_users, cancellations = plot_new_users_and_cancellations_weekly(customer_df)"
   ]
  }
 ],
 "metadata": {
  "kernelspec": {
   "display_name": "lewagon",
   "language": "python",
   "name": "python3"
  },
  "language_info": {
   "codemirror_mode": {
    "name": "ipython",
    "version": 3
   },
   "file_extension": ".py",
   "mimetype": "text/x-python",
   "name": "python",
   "nbconvert_exporter": "python",
   "pygments_lexer": "ipython3",
   "version": "3.10.6"
  }
 },
 "nbformat": 4,
 "nbformat_minor": 2
}
